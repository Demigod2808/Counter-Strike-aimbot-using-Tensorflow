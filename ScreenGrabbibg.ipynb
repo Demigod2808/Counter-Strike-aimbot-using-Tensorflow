{
 "cells": [
  {
   "cell_type": "code",
   "execution_count": 2,
   "metadata": {},
   "outputs": [],
   "source": [
    "import time\n",
    "import cv2\n",
    "import mss\n",
    "import numpy\n",
    "from PIL import ImageGrab\n",
    "import multiprocessing\n",
    "# from grabscreen import grab_screen"
   ]
  },
  {
   "cell_type": "code",
   "execution_count": 3,
   "metadata": {},
   "outputs": [],
   "source": [
    "mon = (0,40,800,640)\n",
    "monitor = {\"top\": 40, \"left\": 0, \"width\": 800, \"height\": 640}\n",
    "sct = mss.mss()\n",
    "title = \"FPS benchmark\"\n",
    "display_time = 2\n",
    "fps = 0\n",
    "start_time = time.time()"
   ]
  },
  {
   "cell_type": "code",
   "execution_count": null,
   "metadata": {},
   "outputs": [],
   "source": [
    "def screen_recordPIL():\n",
    "    # set variables as global, that we could change them\n",
    "    global fps, start_time\n",
    "    # begin our loop\n",
    "    while True:\n",
    "        # Get raw pixels from the screen, save it to a Numpy array\n",
    "        img = numpy.asarray(ImageGrab.grab(bbox=mon))\n",
    "        # Display the picture\n",
    "        cv2.imshow(title, cv2.cvtColor(img, cv2.COLOR_BGR2RGB))\n",
    "        # add one to fps\n",
    "        fps+=1\n",
    "        # calculate time difference\n",
    "        TIME = time.time() - start_time\n",
    "        # check if our 2 seconds passed\n",
    "        if (TIME) >= display_time :\n",
    "            print(\"FPS: \", fps / (TIME))\n",
    "            # set fps again to zero\n",
    "            fps = 0\n",
    "            # set start time to current time again\n",
    "            start_time = time.time()\n",
    "        # Press \"q\" to quit\n",
    "        if cv2.waitKey(25) & 0xFF == ord(\"q\"):\n",
    "            cv2.destroyAllWindows()\n",
    "            break"
   ]
  },
  {
   "cell_type": "code",
   "execution_count": null,
   "metadata": {},
   "outputs": [],
   "source": [
    "# screen_recordPIL()"
   ]
  },
  {
   "cell_type": "code",
   "execution_count": null,
   "metadata": {},
   "outputs": [],
   "source": [
    "def screen_grab():\n",
    "    global fps, start_time\n",
    "    while True:\n",
    "        # Get raw pixels from the screen \n",
    "        img = grab_screen(region=mon)\n",
    "        # Display the picture\n",
    "        cv2.imshow(title, cv2.cvtColor(img, cv2.COLOR_BGR2RGB))\n",
    "        fps+=1\n",
    "        TIME = time.time() - start_time\n",
    "        if (TIME) >= display_time :\n",
    "            print(\"FPS: \", fps / (TIME))\n",
    "            fps = 0\n",
    "            start_time = time.time()\n",
    "        # Press \"q\" to quit\n",
    "        if cv2.waitKey(25) & 0xFF == ord(\"q\"):\n",
    "            cv2.destroyAllWindows()\n",
    "            break"
   ]
  },
  {
   "cell_type": "code",
   "execution_count": null,
   "metadata": {},
   "outputs": [],
   "source": [
    "# screen_grab()"
   ]
  },
  {
   "cell_type": "code",
   "execution_count": null,
   "metadata": {},
   "outputs": [],
   "source": [
    "def screen_recordMSS():\n",
    "    global fps, start_time\n",
    "    while True:\n",
    "        # Get raw pixels from the screen, save it to a Numpy array\n",
    "        img = numpy.array(sct.grab(monitor))\n",
    "        # to ger real color we do this:\n",
    "        img = cv2.cvtColor(img, cv2.COLOR_BGR2RGB)\n",
    "        cv2.imshow(title, cv2.cvtColor(img, cv2.COLOR_BGR2RGB))\n",
    "        fps+=1\n",
    "        TIME = time.time() - start_time\n",
    "        if (TIME) >= display_time :\n",
    "            print(\"FPS: \", fps / (TIME))\n",
    "            fps = 0\n",
    "            start_time = time.time()\n",
    "        # Press \"q\" to quit\n",
    "        if cv2.waitKey(25) & 0xFF == ord(\"q\"):\n",
    "            cv2.destroyAllWindows()\n",
    "            break"
   ]
  },
  {
   "cell_type": "code",
   "execution_count": null,
   "metadata": {},
   "outputs": [],
   "source": [
    "screen_recordMSS()"
   ]
  },
  {
   "cell_type": "code",
   "execution_count": null,
   "metadata": {},
   "outputs": [],
   "source": [
    "q = multiprocessing.JoinableQueue()"
   ]
  },
  {
   "cell_type": "code",
   "execution_count": 4,
   "metadata": {},
   "outputs": [],
   "source": [
    "def grab_using_mss(q):\n",
    "    \n",
    "    global fps, start_time\n",
    "    while True:\n",
    "        \n",
    "        # Get raw pixels from the screen, save it to a Numpy array\n",
    "        img = numpy.array(sct.grab(monitor))\n",
    "        # to ger real color we do this:\n",
    "        img = cv2.cvtColor(img, cv2.COLOR_BGR2RGB)\n",
    "        q.put_nowait(img)\n",
    "        q.join()\n",
    "\n",
    "    "
   ]
  },
  {
   "cell_type": "code",
   "execution_count": 5,
   "metadata": {},
   "outputs": [],
   "source": [
    "def show_using_mss():\n",
    "    global fps , start_time\n",
    "    while True:\n",
    "        if not q.empty():\n",
    "            img = q.get_nowait()\n",
    "            q.task_done()\n",
    "            \n",
    "            cv2.imshow(title, cv2.cvtColor(img, cv2.COLOR_BGR2RGB))\n",
    "            fps+=1\n",
    "            TIME = time.time() - start_time\n",
    "            if (TIME) >= display_time :\n",
    "                print(\"FPS: \", fps / (TIME))\n",
    "                fps = 0\n",
    "                start_time = time.time()\n",
    "        # Press \"q\" to quit\n",
    "            if cv2.waitKey(25) & 0xFF == ord(\"q\"):\n",
    "                cv2.destroyAllWindows()\n",
    "                break\n",
    "    "
   ]
  },
  {
   "cell_type": "code",
   "execution_count": 9,
   "metadata": {},
   "outputs": [],
   "source": [
    "if __name__==\"__main__\":\n",
    "# Queue\n",
    "    q = multiprocessing.JoinableQueue()\n",
    "\n",
    "    # creating new processes\n",
    "    p1 = multiprocessing.Process(target=grab_using_mss, args=(q, ))\n",
    "    p2 = multiprocessing.Process(target=show_using_mss, args=(q, ))\n",
    "\n",
    "    # starting our processes\n",
    "    p1.start()\n",
    "    p2.start()"
   ]
  },
  {
   "cell_type": "code",
   "execution_count": null,
   "metadata": {},
   "outputs": [],
   "source": []
  },
  {
   "cell_type": "code",
   "execution_count": null,
   "metadata": {},
   "outputs": [],
   "source": []
  }
 ],
 "metadata": {
  "kernelspec": {
   "display_name": "Python 3",
   "language": "python",
   "name": "python3"
  },
  "language_info": {
   "codemirror_mode": {
    "name": "ipython",
    "version": 3
   },
   "file_extension": ".py",
   "mimetype": "text/x-python",
   "name": "python",
   "nbconvert_exporter": "python",
   "pygments_lexer": "ipython3",
   "version": "3.7.4"
  }
 },
 "nbformat": 4,
 "nbformat_minor": 2
}
